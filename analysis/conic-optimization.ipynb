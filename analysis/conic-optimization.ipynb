{
 "cells": [
  {
   "cell_type": "markdown",
   "metadata": {},
   "source": [
    "# Conic Optimization [DRAFT]"
   ]
  },
  {
   "cell_type": "markdown",
   "metadata": {},
   "source": [
    "## Quadratic  problem"
   ]
  },
  {
   "cell_type": "code",
   "execution_count": 184,
   "metadata": {},
   "outputs": [
    {
     "name": "stderr",
     "output_type": "stream",
     "text": [
      "\u001b[32m\u001b[1m   Resolving\u001b[22m\u001b[39m package versions...\n",
      "\u001b[32m\u001b[1m  No Changes\u001b[22m\u001b[39m to `~/.julia/environments/v1.8/Project.toml`\n",
      "\u001b[32m\u001b[1m  No Changes\u001b[22m\u001b[39m to `~/.julia/environments/v1.8/Manifest.toml`\n",
      "\u001b[32m\u001b[1m   Resolving\u001b[22m\u001b[39m package versions...\n",
      "\u001b[32m\u001b[1m   Installed\u001b[22m\u001b[39m HiGHS_jll ─ v1.4.2+0\n",
      "\u001b[32m\u001b[1m   Installed\u001b[22m\u001b[39m HiGHS ───── v1.4.3\n",
      "\u001b[32m\u001b[1m    Updating\u001b[22m\u001b[39m `~/.julia/environments/v1.8/Project.toml`\n",
      " \u001b[90m [87dc4568] \u001b[39m\u001b[92m+ HiGHS v1.4.3\u001b[39m\n",
      "\u001b[32m\u001b[1m    Updating\u001b[22m\u001b[39m `~/.julia/environments/v1.8/Manifest.toml`\n",
      " \u001b[90m [87dc4568] \u001b[39m\u001b[92m+ HiGHS v1.4.3\u001b[39m\n",
      " \u001b[90m [8fd58aa0] \u001b[39m\u001b[92m+ HiGHS_jll v1.4.2+0\u001b[39m\n",
      "\u001b[32m\u001b[1mPrecompiling\u001b[22m\u001b[39m project...\n",
      "\u001b[32m  ✓ \u001b[39m\u001b[90mHiGHS_jll\u001b[39m\n",
      "\u001b[32m  ✓ \u001b[39mHiGHS\n",
      "  2 dependencies successfully precompiled in 8 seconds. 235 already precompiled.\n"
     ]
    }
   ],
   "source": [
    "import Pkg\n",
    "Pkg.add(\"Pajarito\")\n",
    "Pkg.add(\"HiGHS\")"
   ]
  },
  {
   "cell_type": "code",
   "execution_count": 15,
   "metadata": {},
   "outputs": [
    {
     "ename": "LoadError",
     "evalue": "Constraints of type MathOptInterface.VariableIndex-in-MathOptInterface.Integer are not supported by the solver.\n\nIf you expected the solver to support your problem, you may have an error in your formulation. Otherwise, consider using a different solver.\n\nThe list of available solvers, along with the problem types they support, is available at https://jump.dev/JuMP.jl/stable/installation/#Supported-solvers.",
     "output_type": "error",
     "traceback": [
      "Constraints of type MathOptInterface.VariableIndex-in-MathOptInterface.Integer are not supported by the solver.\n\nIf you expected the solver to support your problem, you may have an error in your formulation. Otherwise, consider using a different solver.\n\nThe list of available solvers, along with the problem types they support, is available at https://jump.dev/JuMP.jl/stable/installation/#Supported-solvers.",
      "",
      "Stacktrace:",
      "  [1] error(s::String)",
      "    @ Base ./error.jl:35",
      "  [2] _moi_add_constraint",
      "    @ ~/.julia/packages/JuMP/vuP7I/src/constraints.jl:599 [inlined]",
      "  [3] _moi_constrain_variable(moi_backend::MathOptInterface.Utilities.CachingOptimizer{MathOptInterface.Bridges.LazyBridgeOptimizer{MathOptInterface.Utilities.CachingOptimizer{Hypatia.Optimizer{Float64}, MathOptInterface.Utilities.UniversalFallback{MathOptInterface.Utilities.Model{Float64}}}}, MathOptInterface.Utilities.UniversalFallback{MathOptInterface.Utilities.Model{Float64}}}, index::MathOptInterface.VariableIndex, info::VariableInfo{Int64, Float64, Float64, Float64})",
      "    @ JuMP ~/.julia/packages/JuMP/vuP7I/src/variables.jl:1116",
      "  [4] _moi_add_variable(moi_backend::MathOptInterface.Utilities.CachingOptimizer{MathOptInterface.Bridges.LazyBridgeOptimizer{MathOptInterface.Utilities.CachingOptimizer{Hypatia.Optimizer{Float64}, MathOptInterface.Utilities.UniversalFallback{MathOptInterface.Utilities.Model{Float64}}}}, MathOptInterface.Utilities.UniversalFallback{MathOptInterface.Utilities.Model{Float64}}}, model::Model, v::ScalarVariable{Int64, Float64, Float64, Float64}, name::String)",
      "    @ JuMP ~/.julia/packages/JuMP/vuP7I/src/variables.jl:1080",
      "  [5] add_variable(model::Model, v::ScalarVariable{Int64, Float64, Float64, Float64}, name::String)",
      "    @ JuMP ~/.julia/packages/JuMP/vuP7I/src/variables.jl:1074",
      "  [6] (::var\"#247#248\")(696::Int64)",
      "    @ Main ~/.julia/packages/JuMP/vuP7I/src/Containers/macro.jl:304",
      "  [7] #42",
      "    @ ~/.julia/packages/JuMP/vuP7I/src/Containers/container.jl:81 [inlined]",
      "  [8] iterate",
      "    @ ./generator.jl:47 [inlined]",
      "  [9] collect(itr::Base.Generator{JuMP.Containers.VectorizedProductIterator{Tuple{Base.OneTo{Int64}}}, JuMP.Containers.var\"#42#43\"{var\"#247#248\"}})",
      "    @ Base ./array.jl:787",
      " [10] map(f::Function, A::JuMP.Containers.VectorizedProductIterator{Tuple{Base.OneTo{Int64}}})",
      "    @ Base ./abstractarray.jl:2961",
      " [11] container",
      "    @ ~/.julia/packages/JuMP/vuP7I/src/Containers/container.jl:81 [inlined]",
      " [12] container(f::Function, indices::JuMP.Containers.VectorizedProductIterator{Tuple{Base.OneTo{Int64}}})",
      "    @ JuMP.Containers ~/.julia/packages/JuMP/vuP7I/src/Containers/container.jl:75",
      " [13] macro expansion",
      "    @ ~/.julia/packages/JuMP/vuP7I/src/macros.jl:138 [inlined]",
      " [14] top-level scope",
      "    @ In[15]:33"
     ]
    }
   ],
   "source": [
    "using LinearAlgebra\n",
    "using JuMP\n",
    "using Hypatia\n",
    "\n",
    "\n",
    "#V = [\n",
    "#    0.6290  0.07;\n",
    "#    0.3592  0.0752;\n",
    "#    0.3592  0.0752;\n",
    "#]\n",
    "\n",
    "#V = [\n",
    "#    0.6290  0.07;\n",
    "#    0.3592  0.0752;\n",
    "#    0.3592  0.0752;\n",
    "#]\n",
    "\n",
    "V = [\n",
    "    0.6290  0.3592  0.3592;\n",
    "    0.07    0.0752  0.0752;\n",
    "]\n",
    "\n",
    "q = 2\n",
    "p = 3\n",
    "n = 70\n",
    "n_max = 10000\n",
    "\n",
    "\n",
    "# setup JuMP model\n",
    "opt = Hypatia.Optimizer(verbose = false)\n",
    "model = Model(() -> opt)\n",
    "\n",
    "@variable(model, x[1:3] >= 0, Int)\n",
    "@constraint(model, sum(x) == 70)\n",
    "\n",
    "model = JuMP.Model()\n",
    "JuMP.@variable(model, x[1:p])\n",
    "JuMP.@constraint(model, sum(x) == n)\n",
    "mid = n_max / 2\n",
    "JuMP.@constraint(model, vcat(mid, x .- mid) in MOI.NormInfinityCone(p + 1))\n",
    "JuMP.@variable(model, hypo)\n",
    "JuMP.@objective(model, Max, hypo)\n",
    "\n",
    "JuMP.@variable(model, L[i in 1:q, j in 1:i])\n",
    "JuMP.@variable(model, W[1:p, 1:q])\n",
    "VW = V * W\n",
    "JuMP.@constraints(\n",
    "    model,\n",
    "    begin\n",
    "        [i in 1:q, j in 1:i], VW[i, j] == L[i, j]\n",
    "        [i in 1:q, j in (i + 1):q], VW[i, j] == 0\n",
    "        vcat(hypo, [L[i, i] for i in 1:q]) in MOI.GeometricMeanCone(1 + q)\n",
    "        [i in 1:p], vcat(sqrt(q) * x[i], W[i, :]) in JuMP.SecondOrderCone()\n",
    "    end\n",
    ")\n",
    "\n",
    "# solve and query solution\n",
    "optimize!(model)\n",
    "termination_status(model)\n",
    "objective_value(model)\n",
    "value.(x)\n"
   ]
  },
  {
   "cell_type": "code",
   "execution_count": 196,
   "metadata": {},
   "outputs": [
    {
     "name": "stdout",
     "output_type": "stream",
     "text": [
      "solving continuous relaxation\n",
      "continuous relaxation status is ALMOST_OPTIMAL\n",
      "separated 0 rays before imposing integrality\n",
      " iter     cuts          obj        bound          gap\n",
      "continuous subproblem status is OPTIMAL\n",
      "    1       28  -2.5839e-01  -7.7309e-01   1.9919e+00\n",
      "continuous subproblem status is OPTIMAL\n",
      "    2       32  -6.2039e-01  -7.7214e-01   2.4460e-01\n",
      "continuous subproblem status is OPTIMAL\n",
      "    3       36  -7.6753e-01  -7.7088e-01   4.3590e-03\n",
      "    4       38  -7.6753e-01  -7.6237e-01  -6.7252e-03\n",
      "objective relative gap -0.006725168329654752 reached; terminating\n",
      "OA solver finished with status OPTIMAL, after 0.10770201683044434 seconds and 38 cuts\n",
      "iterative method used 4 iterations\n",
      "\n"
     ]
    },
    {
     "name": "stderr",
     "output_type": "stream",
     "text": [
      "\u001b[33m\u001b[1m┌ \u001b[22m\u001b[39m\u001b[33m\u001b[1mWarning: \u001b[22m\u001b[39mintegral solution repeated\n",
      "\u001b[33m\u001b[1m└ \u001b[22m\u001b[39m\u001b[90m@ Pajarito ~/.julia/packages/Pajarito/sNYdn/src/algorithms.jl:103\u001b[39m\n"
     ]
    },
    {
     "data": {
      "text/plain": [
       "3-element Vector{Float64}:\n",
       " 38.0\n",
       "  2.0\n",
       " 30.0"
      ]
     },
     "execution_count": 196,
     "metadata": {},
     "output_type": "execute_result"
    }
   ],
   "source": [
    "using JuMP, Pajarito, HiGHS, Hypatia\n",
    "\n",
    "# setup solvers\n",
    "oa_solver = optimizer_with_attributes(HiGHS.Optimizer,\n",
    "    MOI.Silent() => true,\n",
    "    \"mip_feasibility_tolerance\" => 1e-8,\n",
    "    \"mip_rel_gap\" => 1e-6,\n",
    ")\n",
    "conic_solver = optimizer_with_attributes(Hypatia.Optimizer, \n",
    "    MOI.Silent() => true,\n",
    ")\n",
    "opt = optimizer_with_attributes(Pajarito.Optimizer,\n",
    "    \"time_limit\" => 60, \n",
    "    \"oa_solver\" => oa_solver, \n",
    "    \"conic_solver\" => conic_solver,\n",
    ")\n",
    "\n",
    "n_degs = 2\n",
    "n_stints = 3\n",
    "n_laps = 70\n",
    "\n",
    "# setup model\n",
    "model = Model(opt)\n",
    "@variable(model, x[1:n_stints] >= 0, Int)\n",
    "@constraint(model, x .>= 2)\n",
    "@constraint(model, sum(x) == n_laps)\n",
    "\n",
    "    # M     M       S \n",
    "V = [\n",
    "    0.3592  0.3592  0.629;    # k_0\n",
    "    0.0752  0.0752  0.07;     # k_1_lin\n",
    "]\n",
    "\n",
    "\n",
    "@variable(model, hypo)\n",
    "@objective(model, Min, hypo)\n",
    "\n",
    "Q = V * diagm(x) * V'\n",
    "\n",
    "aff = vcat(hypo, [Q[i, j] for i in 1:n_degs for j in 1:i]...)\n",
    "@constraint(model, aff in MOI.RootDetConeTriangle(n_degs))\n",
    "\n",
    "# solve and query solution\n",
    "optimize!(model)\n",
    "termination_status(model)\n",
    "objective_value(model)\n",
    "value.(x)\n",
    "\n",
    "\n",
    "\n",
    "\n",
    "#@objective(model, Min, x + 2y)\n",
    "#@constraint(model, [z, x, y] in SecondOrderCone())\n",
    "\n",
    "# solve\n",
    "#optimize!(model)\n",
    "#@show termination_status(model) # MOI.OPTIMAL\n",
    "#@show primal_status(model) # MOI.FEASIBLE_POINT\n",
    "#@show objective_value(model) # -1 - 2 * sqrt(3)\n",
    "#@show value(x) # -1\n",
    "#@show value(y) # -sqrt(3)\n",
    "#@show value(z) # 2"
   ]
  },
  {
   "cell_type": "markdown",
   "metadata": {},
   "source": [
    "model = SOSModel(solver=PajaritoSolver())"
   ]
  },
  {
   "cell_type": "code",
   "execution_count": 199,
   "metadata": {},
   "outputs": [
    {
     "ename": "LoadError",
     "evalue": "UndefVarError: PajaritoSolver not defined",
     "output_type": "error",
     "traceback": [
      "UndefVarError: PajaritoSolver not defined",
      "",
      "Stacktrace:",
      " [1] getproperty(x::Module, f::Symbol)",
      "   @ Base ./Base.jl:31",
      " [2] top-level scope",
      "   @ In[199]:3"
     ]
    }
   ],
   "source": [
    "using Pajarito \n",
    "\n",
    "model = SOSModel(solver=Pajarito.PajaritoSolver())"
   ]
  },
  {
   "cell_type": "code",
   "execution_count": 167,
   "metadata": {},
   "outputs": [
    {
     "data": {
      "text/plain": [
       "2×2 Matrix{Float64}:\n",
       " 0.3592  1.8991\n",
       " 0.7552  0.0351"
      ]
     },
     "execution_count": 167,
     "metadata": {},
     "output_type": "execute_result"
    }
   ],
   "source": [
    "[\n",
    "    0.3592  1.8991;\n",
    "    0.7552  0.0351;\n",
    "]"
   ]
  },
  {
   "cell_type": "code",
   "execution_count": 161,
   "metadata": {},
   "outputs": [
    {
     "data": {
      "text/plain": [
       "2×3 Matrix{Float64}:\n",
       " 0.355255  0.65295   0.863435\n",
       " 0.942073  0.774755  0.620855"
      ]
     },
     "execution_count": 161,
     "metadata": {},
     "output_type": "execute_result"
    }
   ],
   "source": [
    "[\n",
    "    0.3592  1.8991;\n",
    "    0.7552  0.0351;\n",
    "]"
   ]
  },
  {
   "cell_type": "code",
   "execution_count": 166,
   "metadata": {},
   "outputs": [
    {
     "ename": "LoadError",
     "evalue": "MethodError: no method matching diagm(::Matrix{Int64})\n\nYou might have used a 2d row vector where a 1d column vector was required.\nNote the difference between 1d column vector [1,2,3] and 2d row vector [1 2 3].\nYou can convert to a column vector with the vec() function.\n\u001b[0mClosest candidates are:\n\u001b[0m  diagm(::Any, \u001b[91m::Any\u001b[39m, \u001b[91m::Pair{<:Integer, <:ChainRulesCore.AbstractThunk}\u001b[39m, \u001b[91m::Pair{<:Integer, <:ChainRulesCore.AbstractThunk}...\u001b[39m) at ~/.julia/packages/ChainRulesCore/C73ay/src/tangent_types/thunks.jl:77\n\u001b[0m  diagm(\u001b[91m::Integer\u001b[39m, \u001b[91m::Integer\u001b[39m, \u001b[91m::Pair{<:Integer, <:AbstractVector}...\u001b[39m) at /Applications/Julia-1.8.app/Contents/Resources/julia/share/julia/stdlib/v1.8/LinearAlgebra/src/dense.jl:292\n\u001b[0m  diagm(\u001b[91m::Integer\u001b[39m, \u001b[91m::Integer\u001b[39m, \u001b[91m::AbstractVector\u001b[39m) at /Applications/Julia-1.8.app/Contents/Resources/julia/share/julia/stdlib/v1.8/LinearAlgebra/src/dense.jl:342\n\u001b[0m  ...",
     "output_type": "error",
     "traceback": [
      "MethodError: no method matching diagm(::Matrix{Int64})\n\nYou might have used a 2d row vector where a 1d column vector was required.\nNote the difference between 1d column vector [1,2,3] and 2d row vector [1 2 3].\nYou can convert to a column vector with the vec() function.\n\u001b[0mClosest candidates are:\n\u001b[0m  diagm(::Any, \u001b[91m::Any\u001b[39m, \u001b[91m::Pair{<:Integer, <:ChainRulesCore.AbstractThunk}\u001b[39m, \u001b[91m::Pair{<:Integer, <:ChainRulesCore.AbstractThunk}...\u001b[39m) at ~/.julia/packages/ChainRulesCore/C73ay/src/tangent_types/thunks.jl:77\n\u001b[0m  diagm(\u001b[91m::Integer\u001b[39m, \u001b[91m::Integer\u001b[39m, \u001b[91m::Pair{<:Integer, <:AbstractVector}...\u001b[39m) at /Applications/Julia-1.8.app/Contents/Resources/julia/share/julia/stdlib/v1.8/LinearAlgebra/src/dense.jl:292\n\u001b[0m  diagm(\u001b[91m::Integer\u001b[39m, \u001b[91m::Integer\u001b[39m, \u001b[91m::AbstractVector\u001b[39m) at /Applications/Julia-1.8.app/Contents/Resources/julia/share/julia/stdlib/v1.8/LinearAlgebra/src/dense.jl:342\n\u001b[0m  ...",
      "",
      "Stacktrace:",
      " [1] top-level scope",
      "   @ In[166]:2"
     ]
    }
   ],
   "source": [
    "x = [1 2 3]\n",
    "V * diagm(x).T * V'"
   ]
  },
  {
   "cell_type": "code",
   "execution_count": 25,
   "metadata": {},
   "outputs": [
    {
     "ename": "LoadError",
     "evalue": "MethodError: no method matching Int64(::VariableRef)\n\u001b[0mClosest candidates are:\n\u001b[0m  (::Type{T})(\u001b[91m::AbstractChar\u001b[39m) where T<:Union{Int32, Int64} at char.jl:51\n\u001b[0m  (::Type{T})(\u001b[91m::AbstractChar\u001b[39m) where T<:Union{AbstractChar, Number} at char.jl:50\n\u001b[0m  (::Type{T})(\u001b[91m::BigInt\u001b[39m) where T<:Union{Int128, Int16, Int32, Int64, Int8} at gmp.jl:359\n\u001b[0m  ...",
     "output_type": "error",
     "traceback": [
      "MethodError: no method matching Int64(::VariableRef)\n\u001b[0mClosest candidates are:\n\u001b[0m  (::Type{T})(\u001b[91m::AbstractChar\u001b[39m) where T<:Union{Int32, Int64} at char.jl:51\n\u001b[0m  (::Type{T})(\u001b[91m::AbstractChar\u001b[39m) where T<:Union{AbstractChar, Number} at char.jl:50\n\u001b[0m  (::Type{T})(\u001b[91m::BigInt\u001b[39m) where T<:Union{Int128, Int16, Int32, Int64, Int8} at gmp.jl:359\n\u001b[0m  ...",
      "",
      "Stacktrace:",
      " [1] _broadcast_getindex_evalf",
      "   @ ./broadcast.jl:670 [inlined]",
      " [2] _broadcast_getindex",
      "   @ ./broadcast.jl:643 [inlined]",
      " [3] getindex",
      "   @ ./broadcast.jl:597 [inlined]",
      " [4] copy",
      "   @ ./broadcast.jl:899 [inlined]",
      " [5] materialize(bc::Base.Broadcast.Broadcasted{Base.Broadcast.DefaultArrayStyle{1}, Nothing, Type{Int64}, Tuple{Vector{VariableRef}}})",
      "   @ Base.Broadcast ./broadcast.jl:860",
      " [6] macro expansion",
      "   @ ~/.julia/packages/MutableArithmetics/9dpep/src/rewrite.jl:322 [inlined]",
      " [7] macro expansion",
      "   @ ~/.julia/packages/JuMP/vuP7I/src/macros.jl:831 [inlined]",
      " [8] top-level scope",
      "   @ In[25]:27"
     ]
    }
   ],
   "source": [
    "using LinearAlgebra\n",
    "using JuMP\n",
    "using Hypatia\n",
    "\n",
    "#V = randn(q, p)\n",
    "V = [\n",
    "    0.3592  0.3592  0.629;    # k_0\n",
    "    0.0752  0.0752  0.07;     # k_1_lin\n",
    "]\n",
    "\n",
    "\n",
    "V = [\n",
    "    0.6290  0.3592  0.3592;\n",
    "    0.07    0.0752  0.0752;\n",
    "]\n",
    "\n",
    "q = 2\n",
    "p = 3\n",
    "n = 70\n",
    "n_max = 10000\n",
    "\n",
    "opt = Hypatia.Optimizer(verbose = false)\n",
    "model = Model(() -> opt)\n",
    "\n",
    "# model = JuMP.Model()\n",
    "JuMP.@variable(model, np[1:p])\n",
    "JuMP.@constraint(model, sum(Int.(np)) == n)\n",
    "mid = n_max / 2\n",
    "JuMP.@constraint(model, vcat(mid, np .- mid) in MOI.NormInfinityCone(p + 1))\n",
    "JuMP.@variable(model, hypo)\n",
    "JuMP.@objective(model, Max, hypo)\n",
    "\n",
    "# hypogeomean + epinormeucl formulation\n",
    "JuMP.@variable(model, L[i in 1:q, j in 1:i])\n",
    "JuMP.@variable(model, W[1:p, 1:q])\n",
    "VW = V * W\n",
    "JuMP.@constraints(\n",
    "    model,\n",
    "    begin\n",
    "        [i in 1:q, j in 1:i], VW[i, j] == L[i, j]\n",
    "        [i in 1:q, j in (i + 1):q], VW[i, j] == 0\n",
    "        vcat(hypo, [L[i, i] for i in 1:q]) in MOI.GeometricMeanCone(1 + q)\n",
    "        [i in 1:p], vcat(sqrt(q) * np[i], W[i, :]) in JuMP.SecondOrderCone()\n",
    "    end\n",
    ")\n",
    "\n",
    "# solve and query solution\n",
    "optimize!(model)\n",
    "termination_status(model)\n",
    "objective_value(model)\n",
    "value.(np)"
   ]
  },
  {
   "cell_type": "code",
   "execution_count": 20,
   "metadata": {},
   "outputs": [
    {
     "name": "stdout",
     "output_type": "stream",
     "text": [
      "solving continuous relaxation\n",
      "continuous relaxation status is OPTIMAL\n",
      "separated 0 rays before imposing integrality\n",
      " iter     cuts          obj        bound          gap\n",
      "continuous subproblem status is OPTIMAL\n",
      "    1       33  -7.3557e+00  -7.3678e+00   1.6367e-03\n",
      "separation cuts could not be added\n",
      "new incumbent\n",
      "    2       33  -7.3557e+00  -7.3557e+00   0.0000e+00\n",
      "objective relative gap 0.0 reached; terminating\n",
      "OA solver finished with status OPTIMAL, after 0.011727094650268555 seconds and 33 cuts\n",
      "iterative method used 2 iterations\n",
      "\n"
     ]
    },
    {
     "name": "stderr",
     "output_type": "stream",
     "text": [
      "\u001b[33m\u001b[1m┌ \u001b[22m\u001b[39m\u001b[33m\u001b[1mWarning: \u001b[22m\u001b[39mintegral solution repeated\n",
      "\u001b[33m\u001b[1m└ \u001b[22m\u001b[39m\u001b[90m@ Pajarito ~/.julia/packages/Pajarito/sNYdn/src/algorithms.jl:103\u001b[39m\n"
     ]
    },
    {
     "data": {
      "text/plain": [
       "3-element Vector{Float64}:\n",
       " 37.0\n",
       " 31.0\n",
       "  2.0"
      ]
     },
     "execution_count": 20,
     "metadata": {},
     "output_type": "execute_result"
    }
   ],
   "source": [
    "using LinearAlgebra\n",
    "using JuMP\n",
    "using Hypatia\n",
    "\n",
    "using JuMP, Pajarito, HiGHS, Hypatia\n",
    "\n",
    "#V = randn(q, p)\n",
    "V = [\n",
    "    0.3592  0.3592  0.629;    # k_0\n",
    "    0.0752  0.0752  0.07;     # k_1_lin\n",
    "]\n",
    "\n",
    "\n",
    "V = [\n",
    "    0.6290  0.3592  0.3592;\n",
    "    0.07    0.0752  0.0752;\n",
    "]\n",
    "\n",
    "q = 2\n",
    "p = 3\n",
    "n = 70\n",
    "n_max = 10000\n",
    "\n",
    "\n",
    "# setup solvers\n",
    "oa_solver = optimizer_with_attributes(HiGHS.Optimizer,\n",
    "    MOI.Silent() => true,\n",
    "    \"mip_feasibility_tolerance\" => 1e-8,\n",
    "    \"mip_rel_gap\" => 1e-6,\n",
    ")\n",
    "conic_solver = optimizer_with_attributes(Hypatia.Optimizer, \n",
    "    MOI.Silent() => true,\n",
    ")\n",
    "opt = optimizer_with_attributes(Pajarito.Optimizer,\n",
    "    \"time_limit\" => 60, \n",
    "    \"oa_solver\" => oa_solver, \n",
    "    \"conic_solver\" => conic_solver,\n",
    ")\n",
    "\n",
    "model = Model(opt)\n",
    "JuMP.@variable(model, np[1:p] .>= 2, Int)\n",
    "JuMP.@constraint(model, sum(np) == n)\n",
    "mid = n_max / 2\n",
    "JuMP.@constraint(model, vcat(mid, np .- mid) in MOI.NormInfinityCone(p + 1))\n",
    "JuMP.@variable(model, hypo)\n",
    "JuMP.@objective(model, Max, hypo)\n",
    "\n",
    "# hypogeomean + epinormeucl formulation\n",
    "JuMP.@variable(model, L[i in 1:q, j in 1:i])\n",
    "JuMP.@variable(model, W[1:p, 1:q])\n",
    "VW = V * W\n",
    "JuMP.@constraints(\n",
    "    model,\n",
    "    begin\n",
    "        [i in 1:q, j in 1:i], VW[i, j] == L[i, j]\n",
    "        [i in 1:q, j in (i + 1):q], VW[i, j] == 0\n",
    "        vcat(hypo, [L[i, i] for i in 1:q]) in MOI.GeometricMeanCone(1 + q)\n",
    "        [i in 1:p], vcat(sqrt(q) * np[i], W[i, :]) in JuMP.SecondOrderCone()\n",
    "    end\n",
    ")\n",
    "\n",
    "# solve and query solution\n",
    "optimize!(model)\n",
    "termination_status(model)\n",
    "objective_value(model)\n",
    "value.(np)"
   ]
  },
  {
   "cell_type": "code",
   "execution_count": null,
   "metadata": {},
   "outputs": [],
   "source": []
  }
 ],
 "metadata": {
  "kernelspec": {
   "display_name": "Julia 1.8.4",
   "language": "julia",
   "name": "julia-1.8"
  },
  "language_info": {
   "file_extension": ".jl",
   "mimetype": "application/julia",
   "name": "julia",
   "version": "1.8.4"
  },
  "orig_nbformat": 4
 },
 "nbformat": 4,
 "nbformat_minor": 2
}

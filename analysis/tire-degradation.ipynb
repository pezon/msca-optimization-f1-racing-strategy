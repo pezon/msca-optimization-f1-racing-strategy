{
 "cells": [
  {
   "cell_type": "code",
   "execution_count": null,
   "metadata": {},
   "outputs": [],
   "source": [
    "import fastf1\n",
    "from fastf1 import plotting\n",
    "from matplotlib import pyplot as plt\n",
    "\n",
    "plotting.setup_mpl()\n",
    "\n",
    "race = fastf1.get_session(2022, 'Hungarian Grand Prix', 'R')\n",
    "race.load()\n",
    "\n",
    "lec = race.laps.pick_driver(\"LEC\")\n",
    "ver = race.laps.pick_driver(\"VER\")\n",
    "\n",
    "fig, ax = plt.subplots()\n",
    "ax.plot(lec['LapNumber'], lec['LapTime'], color='red')\n",
    "ax.plot(ver['LapNumber'], ver['LapTime'], color='blue')\n",
    "ax.set_title(\"LEC vs VER\")\n",
    "ax.set_xlabel(\"Lap Number\")\n",
    "ax.set_ylabel(\"Lap Time\")\n",
    "plt.show()\n",
    "\n",
    "# tire life at lap number\n",
    "lec[[\"Stint\", \"Compound\", \"TyreLife\", \"LapNumber\"]].groupby([\"Stint\", \"Compound\"]).first()\n",
    "\n",
    "# tire compound for stint\n",
    "lec[[\"Stint\", \"Compound\", \"TyreLife\", \"LapNumber\"]].groupby([\"Stint\", \"Compound\"]).max()\n",
    "\n",
    "# get tire inventory\n",
    "session_abbrevs = [\"FP1\", \"FP2\", \"FP3\", \"Q\", \"R\"]\n",
    "sessions = []\n",
    "for session_abbrev in session_abbrevs:\n",
    "    try:\n",
    "        session = fastf1.get_session(2022, \"Hungarian Grand Prix\", session_abbrev)\n",
    "    except ValueError as err:\n",
    "        print(err)\n",
    "    sessions.append(session)\n",
    "    print(session)\n",
    "    session.load()\n",
    "    lec = session.laps.pick_driver(\"LEC\")\n",
    "\n",
    "    lec[[\"Stint\", \"Compound\", \"TyreLife\", \"LapNumber\"]].groupby([\"Stint\", \"Compound\"]).max()\n",
    "    session.load(lec)\n",
    "\n",
    "\n",
    "    # weather?\n"
   ]
  }
 ],
 "metadata": {
  "interpreter": {
   "hash": "08d5bbfc087be36f4d591da6bc06ce055e58c9322059102243a72a8616354384"
  },
  "kernelspec": {
   "display_name": "Python 3.8.10 ('cboe-maxprofit-iXdT8lHI')",
   "language": "python",
   "name": "python3"
  },
  "language_info": {
   "name": "python",
   "version": "3.8.10"
  },
  "orig_nbformat": 4
 },
 "nbformat": 4,
 "nbformat_minor": 2
}
